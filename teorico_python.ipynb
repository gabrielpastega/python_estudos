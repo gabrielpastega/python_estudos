{
 "cells": [
  {
   "cell_type": "markdown",
   "metadata": {},
   "source": [
    "# REVISÃO DE PYTHON"
   ]
  },
  {
   "cell_type": "markdown",
   "metadata": {},
   "source": [
    "## 1. PYTHON"
   ]
  },
  {
   "cell_type": "markdown",
   "metadata": {},
   "source": [
    "Desenvolvida por Guido van Rossum e lançada pela primeira vez em 1991, Python ganhou imensa popularidade devido à sua simplicidade, legibilidade e vasta gama de aplicativos. Python é uma linguagem de programação de alto nível, interpretada, de tipagem dinâmica e multiplataforma:\n",
    "\n",
    "1. <b>Alto Nível</b>: Python é considerada uma linguagem de alto nível porque sua sintaxe e estruturas são mais próximas da linguagem humana do que da linguagem de máquina.\n",
    "2. <b>Interpretada</b>: Uma linguagem interpretada é aquela em que o código-fonte é executado linha por linha por um programa chamado \"interpretador\", em vez de ser compilado para código de máquina antes da execução.\n",
    "3. <b>Tipagem Dinâmica</b>: Em linguagens de tipagem dinâmica, como Python, o tipo de uma variável é determinado em tempo de execução, não em tempo de compilação. Isso significa que você não precisa declarar explicitamente o tipo de uma variável ao criá-la; o interpretador Python inferirá o tipo com base no valor atribuído a ela.\n",
    "4. <b>Multiplataforma</b>: Uma linguagem multiplataforma é aquela que pode ser executada em diferentes sistemas operacionais ou arquiteturas de computador sem a necessidade de modificações significativas. "
   ]
  },
  {
   "cell_type": "markdown",
   "metadata": {},
   "source": [
    "## USO DE PYTHON, ESTRUTURA, OPERADORES E DELIMITADORES"
   ]
  },
  {
   "cell_type": "markdown",
   "metadata": {},
   "source": [
    "1. <b>Linhas Lógicas</b>: Uma linha lógica é uma sequência de caracteres representando uma instrução única do programa Python. Em Python, uma instrução pode ser dividida em várias linhas lógicas usando a técnica de quebra de linha implícita ou explícita."
   ]
  },
  {
   "cell_type": "code",
   "execution_count": 4,
   "metadata": {},
   "outputs": [],
   "source": [
    "# linhas lógicas\n",
    "x = 10\n",
    "y = 20\n",
    "\n",
    "# quebra de linha explícita \"\\\"\n",
    "if 1900 < year < 2100 and 1 <= month <= 12 \\\n",
    "   and 1 <= day <= 31 and 0 <= hour < 24 \\\n",
    "   and 0 <= minute < 60 and 0 <= second < 60:   # \\ indica a quebra de linha\n",
    "        print(1)\n",
    "\n",
    "# quebra de linhas implícita\n",
    "month_names = ['Janeiro', 'Fevereiro', 'Março',     # Todos os elementos\n",
    "               'Abril',   'Maio',      'Junho',     # estão dentro \n",
    "               'Julho',   'Agosto',    'Setembro',  # da mesma\n",
    "               'Outubro', 'Novembro',  'Dezembro']  # linha lógica"
   ]
  },
  {
   "cell_type": "markdown",
   "metadata": {},
   "source": [
    "2. <b>Linhas Físicas</b>: Uma linha física é uma sequência de caracteres que termina com um caractere de nova linha (`\\n`). Uma linha física pode representar uma ou mais linhas lógicas (linhas em branco são consideradas linhas físicas)."
   ]
  },
  {
   "cell_type": "code",
   "execution_count": 6,
   "metadata": {},
   "outputs": [],
   "source": [
    "# Linhas físicas\n",
    "z = x + \\\n",
    "    y"
   ]
  },
  {
   "cell_type": "markdown",
   "metadata": {},
   "source": [
    "3. <b>Comentários</b>: Comentários em Python são iniciados com o caractere `#` e são usados para documentar o código ou fazer anotações que não serão executadas pelo interpretador Python."
   ]
  },
  {
   "cell_type": "code",
   "execution_count": null,
   "metadata": {},
   "outputs": [],
   "source": [
    "# Assim é a maneira de se fazer um comentário com Python"
   ]
  },
  {
   "cell_type": "markdown",
   "metadata": {},
   "source": [
    "4. <b>Indentação</b>: Em Python, a indentação é usada para determinar a estrutura do código. Diferentemente de outras linguagens de programação, que utilizam chaves (`{}`) ou palavras-chave para definir blocos de código, Python usa a indentação para indicar o início e o fim de blocos de código, geralmente utilizado 4 espaços ou 1 tecla tab."
   ]
  },
  {
   "cell_type": "code",
   "execution_count": 7,
   "metadata": {},
   "outputs": [],
   "source": [
    "# define-se uma função\n",
    "def hello_world():\n",
    "    # escreve-se o código com identação\n",
    "    print(\"Olá, mundo!\")\n",
    "    # fim do bloco de código"
   ]
  },
  {
   "cell_type": "markdown",
   "metadata": {},
   "source": [
    "5. <b>Palavras-chave (Keywords)</b>: são palavras reservadas que têm significados especiais na linguagem Python, como `if`, `else`, `for`, `while`, entre outros. Segue tabela:"
   ]
  },
  {
   "cell_type": "markdown",
   "metadata": {},
   "source": [
    "<table align=\"center\">\n",
    "  <tr>\n",
    "    <th colspan=\"5\" style=\"text-align:center;\"><b>Palavras-chave</b></th>\n",
    "  </tr>\n",
    "  <tr>\n",
    "    <td align=\"center\">False</td>\n",
    "    <td align=\"center\">await</td>\n",
    "    <td align=\"center\">else</td>\n",
    "    <td align=\"center\">import</td>\n",
    "    <td align=\"center\">pass</td>\n",
    "  </tr>\n",
    "  <tr>\n",
    "    <td align=\"center\">None</td>\n",
    "    <td align=\"center\">break</td>\n",
    "    <td align=\"center\">except</td>\n",
    "    <td align=\"center\">in</td>\n",
    "    <td align=\"center\">raise</td>\n",
    "  </tr>\n",
    "  <tr>\n",
    "    <td align=\"center\">True</td>\n",
    "    <td align=\"center\">class</td>\n",
    "    <td align=\"center\">finally</td>\n",
    "    <td align=\"center\">is</td>\n",
    "    <td align=\"center\">return</td>\n",
    "  </tr>\n",
    "  <tr>\n",
    "    <td align=\"center\">and</td>\n",
    "    <td align=\"center\">continue</td>\n",
    "    <td align=\"center\">for</td>\n",
    "    <td align=\"center\">lambda</td>\n",
    "    <td align=\"center\">try</td>\n",
    "  </tr>\n",
    "  <tr>\n",
    "    <td align=\"center\">as</td>\n",
    "    <td align=\"center\">def</td>\n",
    "    <td align=\"center\">from</td>\n",
    "    <td align=\"center\">nonlocal</td>\n",
    "    <td align=\"center\">while</td>\n",
    "  </tr>\n",
    "  <tr>\n",
    "    <td align=\"center\">assert</td>\n",
    "    <td align=\"center\">del</td>\n",
    "    <td align=\"center\">global</td>\n",
    "    <td align=\"center\">not</td>\n",
    "    <td align=\"center\">with</td>\n",
    "  </tr>\n",
    "  <tr>\n",
    "    <td align=\"center\">async</td>\n",
    "    <td align=\"center\">elif</td>\n",
    "    <td align=\"center\">if</td>\n",
    "    <td align=\"center\">or</td>\n",
    "    <td align=\"center\">yield</td>\n",
    "  </tr>\n",
    "</table>\n"
   ]
  },
  {
   "cell_type": "markdown",
   "metadata": {},
   "source": [
    "6. <b>Palavras-chave Soft (Soft Keywords)</b>: As palavras-chave soft são identificadores que não são palavras-chave em todas as situações, mas são tratadas como palavras-chave em contextos específicos, como `as` em declarações de `import`.\n",
    "\n",
    "<i>Introduzido na versão 3.10 do Python e na versão 3.12 `type` foi adicionado a soft keywords também</i>"
   ]
  },
  {
   "cell_type": "markdown",
   "metadata": {},
   "source": [
    "7. <b>Classes Reservadas de Identificadores</b>: Existem certas classes de identificadores reservados em Python, como nomes de variáveis internas definidas pelo próprio Python.\n",
    "- 7.1 `_` (Sublinhado simples):"
   ]
  },
  {
   "cell_type": "markdown",
   "metadata": {},
   "source": [
    "- 7.1.1 Identificadores em Python que começam com um único sublinhado (`_*`) são considerados \"privados\" e não são importados quando se usa a sintaxe `from module import *`. Isso é uma convenção, e não uma regra estrita da linguagem Python (verificar o arquivo `meu_modulo.py` dentro `fake_libs` para entender melhor)."
   ]
  },
  {
   "cell_type": "code",
   "execution_count": 36,
   "metadata": {},
   "outputs": [
    {
     "name": "stdout",
     "output_type": "stream",
     "text": [
      "Esta função pode ser importada com '*'\n",
      "Erro: A função 'funcao_privada' não está disponível para importação com '*'\n"
     ]
    }
   ],
   "source": [
    "# importando apenas funcao_publica de 'meu_modulo.py'\n",
    "from fake_libs.meu_modulo import *\n",
    "\n",
    "# chamar a função que pode ser importada com '*'\n",
    "funcao_publica()\n",
    "\n",
    "# tentar chamar a função que não queremos importar com '*'\n",
    "# isso resultará em um erro de nome porque ela foi excluída do import\n",
    "try:\n",
    "    funcao_privada()\n",
    "except NameError:\n",
    "    print(\"Erro: A função 'funcao_privada' não está disponível para importação com '*'\")"
   ]
  },
  {
   "cell_type": "markdown",
   "metadata": {},
   "source": [
    " - 7.1.2 Em um padrão de caso dentro de uma declaração de correspondência (match), como case _: dentro de um match, o _ é uma palavra-chave suave que representa um caractere genérico, ou seja, pode corresponder a qualquer valor. No interpretador interativo do Python, o resultado da última expressão avaliada está disponível na variável _."
   ]
  },
  {
   "cell_type": "code",
   "execution_count": 8,
   "metadata": {},
   "outputs": [
    {
     "name": "stdout",
     "output_type": "stream",
     "text": [
      "Valor não é nem zero nem um\n"
     ]
    }
   ],
   "source": [
    "# Exemplo de uso de '_' como caractere genérico em uma instrução de correspondência\n",
    "def check_value(value):\n",
    "    match value:\n",
    "        case 0:\n",
    "            print(\"Valor é zero\")\n",
    "        case 1:\n",
    "            print(\"Valor é um\")\n",
    "        case _:\n",
    "            print(\"Valor não é nem zero nem um\")\n",
    "\n",
    "check_value(5)  # Saída: Valor não é nem zero nem um"
   ]
  },
  {
   "cell_type": "markdown",
   "metadata": {},
   "source": [
    " - 7.1.3 Em uma instrução de correspondência (`match`): Dentro de uma instrução de correspondência (`match`), o `_` é uma palavra-chave suave que funciona como um caractere genérica, significando \"qualquer valor\". Isso é útil quando você não precisa especificar um valor específico em um padrão de correspondência.\n"
   ]
  },
  {
   "cell_type": "code",
   "execution_count": 32,
   "metadata": {},
   "outputs": [
    {
     "data": {
      "text/plain": [
       "30"
      ]
     },
     "execution_count": 32,
     "metadata": {},
     "output_type": "execute_result"
    }
   ],
   "source": [
    "# Executar algumas operações\n",
    ">>> 10 + 5\n",
    "# 15\n",
    ">>> _ * 2\n",
    "# 30\n",
    "\n",
    "# O valor da última expressão avaliada está disponível na variável '_'\n",
    ">>> _\n",
    "# 30"
   ]
  },
  {
   "cell_type": "markdown",
   "metadata": {},
   "source": [
    "- 7.1.4 Fora desses casos específicos, `_` é simplesmente um identificador normal, geralmente usado para indicar itens \"especiais\", mas não tem significado especial para o Python em si. É frequentemente usado para variáveis não utilizadas ou para convenções de internacionalização."
   ]
  },
  {
   "cell_type": "code",
   "execution_count": 23,
   "metadata": {},
   "outputs": [
    {
     "name": "stdout",
     "output_type": "stream",
     "text": [
      "Dados processados com sucesso\n"
     ]
    }
   ],
   "source": [
    "# definição de uma função que não utiliza um argumento específico\n",
    "def process_data(_):\n",
    "    print(\"Dados processados com sucesso\")\n",
    "\n",
    "# chamada da função com um argumento qualquer\n",
    "result = process_data(10)\n",
    "result # retorna o que a função propôs com qualquer argumento"
   ]
  },
  {
   "cell_type": "markdown",
   "metadata": {},
   "source": [
    "- 7.2 `__*__` (Sublinhado duplo em ambos os lados): São chamados de \"dunder\" (<b>d</b>ouble <b>under</b>score = <b>dunder</b>), e são nomes definidos pelo sistema, como parte da implementação do Python e sua biblioteca padrão. São comumente usados para definir métodos especiais em classes, conhecidos como métodos mágicos, como `__init__` ou `__str__`. O uso de nomes dunder em qualquer outro contexto que não seja o especificado na documentação do Python pode levar a problemas de compatibilidade em versões futuras do Python."
   ]
  },
  {
   "cell_type": "code",
   "execution_count": 35,
   "metadata": {},
   "outputs": [
    {
     "name": "stdout",
     "output_type": "stream",
     "text": [
      "Valor: 42\n"
     ]
    }
   ],
   "source": [
    "class MinhaClasse:\n",
    "    def __init__(self, valor):\n",
    "        self.__valor = valor  # atributo da classe usando dunder (__)\n",
    "\n",
    "    def __str__(self):\n",
    "        return f\"Valor: {self.__valor}\"\n",
    "\n",
    "# instanciando um objeto da classe MinhaClasse\n",
    "objeto = MinhaClasse(42)\n",
    "\n",
    "# chamando o método __str__\n",
    "print(objeto)"
   ]
  },
  {
   "cell_type": "markdown",
   "metadata": {},
   "source": [
    "- 7.3 `__*` (Sublinhado duplo apenas no começo): são utilizado para indicae nomes privados em classes, sendo automaticamente renomeados para prevenir conflitos entre classes base e derivadas. Esse recurso, chamado de \"name mangling\", torna os atributos e métodos mais difíceis de acessar ou sobrescrever acidentalmente por subclasses ou código externo."
   ]
  },
  {
   "cell_type": "code",
   "execution_count": 48,
   "metadata": {},
   "outputs": [
    {
     "name": "stdout",
     "output_type": "stream",
     "text": [
      "Quem é você? ClasseBase aqui!\n",
      "Quem é você? Eu sou a ClasseDerivada!\n"
     ]
    }
   ],
   "source": [
    "class ClasseBase:\n",
    "    def __init__(self):\n",
    "        self.__atributo_privado = \"ClasseBase aqui!\"\n",
    "    \n",
    "    def qual_classe_e(self):\n",
    "        print(\"Quem é você?\", self.__atributo_privado)\n",
    "\n",
    "# classe derivada que usa name mangling para evitar conflitos de nomes\n",
    "class ClasseDerivada(ClasseBase):\n",
    "    def __init__(self):\n",
    "        super().__init__()\n",
    "        self.__atributo_privado = \"Eu sou a ClasseDerivada!\" # não sobrescreve o atributo da principal\n",
    "\n",
    "    def qual_classe_e(self):\n",
    "        print(\"Quem é você?\", self.__atributo_privado)\n",
    "\n",
    "# onstanciando objetos das classes\n",
    "objeto1 = ClasseBase()\n",
    "objeto2 = ClasseDerivada()\n",
    "\n",
    "# acessando o atributo privado\n",
    "objeto1.qual_classe_e()\n",
    "objeto2.qual_classe_e()"
   ]
  },
  {
   "cell_type": "markdown",
   "metadata": {},
   "source": [
    "<i>A função `super` do python dá acesso a métodos e propriedades da classe pai ou parente. De acordo com a documentação há dois casos comuns para o uso do `super`, o primeiro sendo para indicar as classes pai sem as nomear explicitamente "
   ]
  },
  {
   "cell_type": "markdown",
   "metadata": {},
   "source": []
  },
  {
   "cell_type": "code",
   "execution_count": null,
   "metadata": {},
   "outputs": [],
   "source": []
  },
  {
   "cell_type": "code",
   "execution_count": null,
   "metadata": {},
   "outputs": [],
   "source": []
  },
  {
   "cell_type": "code",
   "execution_count": null,
   "metadata": {},
   "outputs": [],
   "source": []
  },
  {
   "cell_type": "code",
   "execution_count": null,
   "metadata": {},
   "outputs": [],
   "source": []
  },
  {
   "cell_type": "code",
   "execution_count": null,
   "metadata": {},
   "outputs": [],
   "source": []
  },
  {
   "cell_type": "code",
   "execution_count": null,
   "metadata": {},
   "outputs": [],
   "source": []
  },
  {
   "cell_type": "code",
   "execution_count": null,
   "metadata": {},
   "outputs": [],
   "source": []
  },
  {
   "cell_type": "code",
   "execution_count": null,
   "metadata": {},
   "outputs": [],
   "source": []
  }
 ],
 "metadata": {
  "kernelspec": {
   "display_name": "Python 3",
   "language": "python",
   "name": "python3"
  },
  "language_info": {
   "codemirror_mode": {
    "name": "ipython",
    "version": 3
   },
   "file_extension": ".py",
   "mimetype": "text/x-python",
   "name": "python",
   "nbconvert_exporter": "python",
   "pygments_lexer": "ipython3",
   "version": "3.12.1"
  }
 },
 "nbformat": 4,
 "nbformat_minor": 2
}
